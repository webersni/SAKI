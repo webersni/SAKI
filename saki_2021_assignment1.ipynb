{
  "nbformat": 4,
  "nbformat_minor": 0,
  "metadata": {
    "colab": {
      "name": "saki_2021_assigment1.ipynb",
      "provenance": [],
      "toc_visible": true
    },
    "kernelspec": {
      "name": "python3",
      "display_name": "Python 3"
    },
    "language_info": {
      "name": "python"
    }
  },
  "cells": [
    {
      "cell_type": "markdown",
      "metadata": {
        "id": "ee4AfHbrWY4K"
      },
      "source": [
        "# SAKI Exercise 1: Naive Bayes Classifier"
      ]
    },
    {
      "cell_type": "markdown",
      "metadata": {
        "id": "_XPfVk1gWeuI"
      },
      "source": [
        "Import relevant libraries."
      ]
    },
    {
      "cell_type": "code",
      "metadata": {
        "id": "MgC5DYRhT903"
      },
      "source": [
        "import pandas as pd\n",
        "from sklearn.feature_extraction.text import CountVectorizer\n",
        "from sklearn.model_selection import train_test_split\n",
        "from sklearn.naive_bayes import MultinomialNB\n",
        "from sklearn.metrics import classification_report, plot_confusion_matrix\n",
        "from sklearn.model_selection import cross_validate\n",
        "from sklearn.pipeline import Pipeline\n",
        "from sklearn.preprocessing import FunctionTransformer"
      ],
      "execution_count": 1,
      "outputs": []
    },
    {
      "cell_type": "markdown",
      "metadata": {
        "id": "AyZFiLrcLMvn"
      },
      "source": [
        "Read the data set."
      ]
    },
    {
      "cell_type": "code",
      "metadata": {
        "id": "ydo0LD4pUOR6",
        "colab": {
          "base_uri": "https://localhost:8080/",
          "height": 660
        },
        "outputId": "dbe547ab-9c8e-4038-dcc5-2107788e3aca"
      },
      "source": [
        "transactions = pd.read_csv(\"SAKI Exercise 1.csv\", sep=\";\", index_col=0)\n",
        "transactions"
      ],
      "execution_count": 2,
      "outputs": [
        {
          "output_type": "execute_result",
          "data": {
            "text/html": [
              "<div>\n",
              "<style scoped>\n",
              "    .dataframe tbody tr th:only-of-type {\n",
              "        vertical-align: middle;\n",
              "    }\n",
              "\n",
              "    .dataframe tbody tr th {\n",
              "        vertical-align: top;\n",
              "    }\n",
              "\n",
              "    .dataframe thead th {\n",
              "        text-align: right;\n",
              "    }\n",
              "</style>\n",
              "<table border=\"1\" class=\"dataframe\">\n",
              "  <thead>\n",
              "    <tr style=\"text-align: right;\">\n",
              "      <th></th>\n",
              "      <th>Auftragskonto</th>\n",
              "      <th>Buchungstag</th>\n",
              "      <th>Valutadatum</th>\n",
              "      <th>Buchungstext</th>\n",
              "      <th>Verwendungszweck</th>\n",
              "      <th>Beguenstigter/Zahlungspflichtiger</th>\n",
              "      <th>Kontonummer</th>\n",
              "      <th>BLZ</th>\n",
              "      <th>Betrag</th>\n",
              "      <th>Waehrung</th>\n",
              "      <th>label</th>\n",
              "    </tr>\n",
              "  </thead>\n",
              "  <tbody>\n",
              "    <tr>\n",
              "      <th>0</th>\n",
              "      <td>89990201.0</td>\n",
              "      <td>28.07.2016</td>\n",
              "      <td>28.07.2016</td>\n",
              "      <td>Lohn / Gehalt</td>\n",
              "      <td>Gehalt Adorsys GmbH &amp; Co. KG End-To-End-Ref.: ...</td>\n",
              "      <td>Adorsys GmbH &amp; Co. KG</td>\n",
              "      <td>7807800780</td>\n",
              "      <td>25190001</td>\n",
              "      <td>2000.00</td>\n",
              "      <td>EUR</td>\n",
              "      <td>income</td>\n",
              "    </tr>\n",
              "    <tr>\n",
              "      <th>1</th>\n",
              "      <td>89990201.0</td>\n",
              "      <td>27.07.2016</td>\n",
              "      <td>27.07.2016</td>\n",
              "      <td>Miete</td>\n",
              "      <td>Byladem1Sbt De12773501123456789889 Miete Beuth...</td>\n",
              "      <td>Georg Tasche</td>\n",
              "      <td>DE31251900019123456780</td>\n",
              "      <td>VOHADE2HXXX</td>\n",
              "      <td>-670.00</td>\n",
              "      <td>EUR</td>\n",
              "      <td>living</td>\n",
              "    </tr>\n",
              "    <tr>\n",
              "      <th>2</th>\n",
              "      <td>89990201.0</td>\n",
              "      <td>21.07.2016</td>\n",
              "      <td>21.07.2016</td>\n",
              "      <td>Bargeld</td>\n",
              "      <td>21.07/16.34Uhr Nuernberg All Eur 70,00 Geb.Eur...</td>\n",
              "      <td>Bargeld</td>\n",
              "      <td>9999900780</td>\n",
              "      <td>25190001</td>\n",
              "      <td>-70.00</td>\n",
              "      <td>EUR</td>\n",
              "      <td>private</td>\n",
              "    </tr>\n",
              "    <tr>\n",
              "      <th>3</th>\n",
              "      <td>89990201.0</td>\n",
              "      <td>20.07.2016</td>\n",
              "      <td>20.07.2016</td>\n",
              "      <td>Lebensmittel / Getraenke</td>\n",
              "      <td>2831 Edeka Neubauer Nuernb.//Nuernb 2016-07-20...</td>\n",
              "      <td>Kartenzahlung</td>\n",
              "      <td>9736000780</td>\n",
              "      <td>25190001</td>\n",
              "      <td>-73.21</td>\n",
              "      <td>EUR</td>\n",
              "      <td>standardOfLiving</td>\n",
              "    </tr>\n",
              "    <tr>\n",
              "      <th>4</th>\n",
              "      <td>89990201.0</td>\n",
              "      <td>18.07.2016</td>\n",
              "      <td>18.07.2016</td>\n",
              "      <td>Spontanausgabe</td>\n",
              "      <td>Amazon</td>\n",
              "      <td>neue Playstation</td>\n",
              "      <td>9988776655</td>\n",
              "      <td>25125100</td>\n",
              "      <td>-363</td>\n",
              "      <td>EUR</td>\n",
              "      <td>leisure</td>\n",
              "    </tr>\n",
              "    <tr>\n",
              "      <th>...</th>\n",
              "      <td>...</td>\n",
              "      <td>...</td>\n",
              "      <td>...</td>\n",
              "      <td>...</td>\n",
              "      <td>...</td>\n",
              "      <td>...</td>\n",
              "      <td>...</td>\n",
              "      <td>...</td>\n",
              "      <td>...</td>\n",
              "      <td>...</td>\n",
              "      <td>...</td>\n",
              "    </tr>\n",
              "    <tr>\n",
              "      <th>204</th>\n",
              "      <td>NaN</td>\n",
              "      <td>15.02.2016</td>\n",
              "      <td>15.02.2016</td>\n",
              "      <td>Mieteinnahmen</td>\n",
              "      <td>Mietzuschuss End-To-End-Ref.: Notprovided Kund...</td>\n",
              "      <td>Isabel Anna</td>\n",
              "      <td>DE31251900019736000780</td>\n",
              "      <td>VOHADE2HXXX</td>\n",
              "      <td>200.00</td>\n",
              "      <td>EUR</td>\n",
              "      <td>finance</td>\n",
              "    </tr>\n",
              "    <tr>\n",
              "      <th>205</th>\n",
              "      <td>NaN</td>\n",
              "      <td>02.02.2016</td>\n",
              "      <td>02.02.2016</td>\n",
              "      <td>Geldanlage</td>\n",
              "      <td>Ccbade31Xxx De71310108339900123456 Sparen End-...</td>\n",
              "      <td>Michael Koffer</td>\n",
              "      <td>DE69790800529736000780</td>\n",
              "      <td>DRESDEFF790</td>\n",
              "      <td>-300.00</td>\n",
              "      <td>EUR</td>\n",
              "      <td>finance</td>\n",
              "    </tr>\n",
              "    <tr>\n",
              "      <th>206</th>\n",
              "      <td>NaN</td>\n",
              "      <td>28.01.2016</td>\n",
              "      <td>28.01.2016</td>\n",
              "      <td>Lohn / Gehalt</td>\n",
              "      <td>Gehalt Adorsys GmbH &amp; Co. KG End-To-End-Ref.: ...</td>\n",
              "      <td>Adorsys GmbH &amp; Co. KG</td>\n",
              "      <td>7807800780</td>\n",
              "      <td>25190001</td>\n",
              "      <td>2000.00</td>\n",
              "      <td>EUR</td>\n",
              "      <td>income</td>\n",
              "    </tr>\n",
              "    <tr>\n",
              "      <th>207</th>\n",
              "      <td>NaN</td>\n",
              "      <td>28.01.2016</td>\n",
              "      <td>28.01.2016</td>\n",
              "      <td>Geldanlage</td>\n",
              "      <td>Ssknde77Xxx De41760501010012345675 Einmalspare...</td>\n",
              "      <td>Christina Jung</td>\n",
              "      <td>DE31251900019736333780</td>\n",
              "      <td>VOHADE2HXXX</td>\n",
              "      <td>-4000.00</td>\n",
              "      <td>EUR</td>\n",
              "      <td>finance</td>\n",
              "    </tr>\n",
              "    <tr>\n",
              "      <th>208</th>\n",
              "      <td>89990210.0</td>\n",
              "      <td>08.01.2016</td>\n",
              "      <td>08.01.2016</td>\n",
              "      <td>Lastschrift (Einzugsermächtigung)</td>\n",
              "      <td>Abonnement Kd-Nr. 5104489.</td>\n",
              "      <td>Vag</td>\n",
              "      <td>DE89760501010001011500</td>\n",
              "      <td>SSKNDE77</td>\n",
              "      <td>-51,2</td>\n",
              "      <td>EUR</td>\n",
              "      <td>leisure</td>\n",
              "    </tr>\n",
              "  </tbody>\n",
              "</table>\n",
              "<p>209 rows × 11 columns</p>\n",
              "</div>"
            ],
            "text/plain": [
              "     Auftragskonto Buchungstag Valutadatum  ...    Betrag Waehrung             label\n",
              "0       89990201.0  28.07.2016  28.07.2016  ...   2000.00      EUR            income\n",
              "1       89990201.0  27.07.2016  27.07.2016  ...   -670.00      EUR            living\n",
              "2       89990201.0  21.07.2016  21.07.2016  ...    -70.00      EUR           private\n",
              "3       89990201.0  20.07.2016  20.07.2016  ...    -73.21      EUR  standardOfLiving\n",
              "4       89990201.0  18.07.2016  18.07.2016  ...      -363      EUR           leisure\n",
              "..             ...         ...         ...  ...       ...      ...               ...\n",
              "204            NaN  15.02.2016  15.02.2016  ...    200.00      EUR           finance\n",
              "205            NaN  02.02.2016  02.02.2016  ...   -300.00      EUR           finance\n",
              "206            NaN  28.01.2016  28.01.2016  ...   2000.00      EUR            income\n",
              "207            NaN  28.01.2016  28.01.2016  ...  -4000.00      EUR           finance\n",
              "208     89990210.0  08.01.2016  08.01.2016  ...     -51,2      EUR           leisure\n",
              "\n",
              "[209 rows x 11 columns]"
            ]
          },
          "metadata": {
            "tags": []
          },
          "execution_count": 2
        }
      ]
    },
    {
      "cell_type": "markdown",
      "metadata": {
        "id": "XD0SPCJwLdt5"
      },
      "source": [
        "Now, we remove all other features except for \"Buchungstext\", \"Verwendungszweck\" and \"Beguenstigter/Zahlungspflichtiger\". In addition, we merge those textual features into one string and perform some cleaning, such as the removal of punctuation."
      ]
    },
    {
      "cell_type": "code",
      "metadata": {
        "id": "h_bkgC3-UsTE"
      },
      "source": [
        "data = pd.DataFrame({\"X\": transactions[\"Buchungstext\"] + \" \" + transactions[\"Verwendungszweck\"] + \" \" + transactions[\"Beguenstigter/Zahlungspflichtiger\"], \"y\": transactions[\"label\"]})\n",
        "\n",
        "data[\"X\"] = data[\"X\"] \\\n",
        "  .str.replace(r'\\S*\\d{1,}\\S*', \"\") \\\n",
        "  .str.replace(r'\\S*[\\.\\&/]+\\S*', \"\") \\\n",
        "  .str.replace(r'\\b\\w{1,3}\\b', \"\") \\\n",
        "  .str.replace(\":\", \"\") \\\n",
        "  .str.replace(\"-\", \"\") \\\n",
        "  .str.replace(\"(\", \"\") \\\n",
        "  .str.replace(\")\", \"\") \\\n",
        "  .str.replace(\",\", \"\") \\\n",
        "  .str.replace(\"+\", \"\") \\\n",
        "  .str.replace(r'\\s{2,}', \" \") \\\n",
        "  .str.strip()"
      ],
      "execution_count": 3,
      "outputs": []
    },
    {
      "cell_type": "markdown",
      "metadata": {
        "id": "YO17Fk-Dvqtp"
      },
      "source": [
        "Let's have a look at the distribution of the labels."
      ]
    },
    {
      "cell_type": "code",
      "metadata": {
        "colab": {
          "base_uri": "https://localhost:8080/"
        },
        "id": "tUbn3DSJD_5c",
        "outputId": "17c85fab-cee7-4a61-8b7b-a3f044188ad9"
      },
      "source": [
        "data[\"y\"].value_counts()"
      ],
      "execution_count": 4,
      "outputs": [
        {
          "output_type": "execute_result",
          "data": {
            "text/plain": [
              "leisure             65\n",
              "standardOfLiving    47\n",
              "finance             33\n",
              "living              26\n",
              "private             21\n",
              "income              17\n",
              "Name: y, dtype: int64"
            ]
          },
          "metadata": {
            "tags": []
          },
          "execution_count": 4
        }
      ]
    },
    {
      "cell_type": "markdown",
      "metadata": {
        "id": "Zerfa35Mvxgu"
      },
      "source": [
        "The data set seems to be imbalanced. We need to keep that in mind when evaluating the results. Now, let's perform a 70% training data and 30% test data split."
      ]
    },
    {
      "cell_type": "code",
      "metadata": {
        "id": "m0cjV2y1CNHk"
      },
      "source": [
        "X_train, X_test, y_train, y_test = train_test_split(data[\"X\"], data[\"y\"], test_size=0.30)"
      ],
      "execution_count": 8,
      "outputs": []
    },
    {
      "cell_type": "markdown",
      "metadata": {
        "id": "LJ0CSFlOL_p7"
      },
      "source": [
        "We fit the CountVectorizer with the training data and transform the training and the test data."
      ]
    },
    {
      "cell_type": "code",
      "metadata": {
        "id": "06qYAcAWDn3X"
      },
      "source": [
        "count_vector = CountVectorizer(lowercase=True, strip_accents=\"ascii\", ngram_range=(1, 2))\n",
        "\n",
        "X_train_count = count_vector.fit_transform(X_train).toarray()\n",
        "X_test_count = count_vector.transform(X_test).toarray()"
      ],
      "execution_count": 10,
      "outputs": []
    },
    {
      "cell_type": "markdown",
      "metadata": {
        "id": "o49Wu-DyMG8x"
      },
      "source": [
        "Subsequently, we initialize the Multinomial Naive Bayes classifier and fit it to the training data."
      ]
    },
    {
      "cell_type": "code",
      "metadata": {
        "colab": {
          "base_uri": "https://localhost:8080/"
        },
        "id": "xAHp_ia0-if-",
        "outputId": "f46119a4-abab-465a-cfd6-cc2e566c566a"
      },
      "source": [
        "mnb = MultinomialNB()\n",
        "mnb.fit(X_train_count, y_train)"
      ],
      "execution_count": 11,
      "outputs": [
        {
          "output_type": "execute_result",
          "data": {
            "text/plain": [
              "MultinomialNB(alpha=1.0, class_prior=None, fit_prior=True)"
            ]
          },
          "metadata": {
            "tags": []
          },
          "execution_count": 11
        }
      ]
    },
    {
      "cell_type": "markdown",
      "metadata": {
        "id": "pKykVKHtMVva"
      },
      "source": [
        "We predict labels for the test data and evaluate the results using the confusion matrix and scikit's classification report."
      ]
    },
    {
      "cell_type": "code",
      "metadata": {
        "id": "DY9Ldzae-pab"
      },
      "source": [
        "y_pred = mnb.predict(X_test_count)"
      ],
      "execution_count": 12,
      "outputs": []
    },
    {
      "cell_type": "code",
      "metadata": {
        "colab": {
          "base_uri": "https://localhost:8080/",
          "height": 558
        },
        "id": "VqFuiFugEOsZ",
        "outputId": "8a019d2a-f173-4211-997c-2b27dff1f65a"
      },
      "source": [
        "plot_confusion_matrix(mnb, X_test_count, y_test, xticks_rotation=45)\n",
        "print(classification_report(y_test, y_pred))"
      ],
      "execution_count": 39,
      "outputs": [
        {
          "output_type": "stream",
          "text": [
            "                  precision    recall  f1-score   support\n",
            "\n",
            "         finance       1.00      0.88      0.93         8\n",
            "          income       1.00      1.00      1.00         8\n",
            "         leisure       0.86      0.96      0.91        25\n",
            "          living       1.00      0.75      0.86         8\n",
            "         private       0.80      1.00      0.89         4\n",
            "standardOfLiving       0.89      0.80      0.84        10\n",
            "\n",
            "        accuracy                           0.90        63\n",
            "       macro avg       0.92      0.90      0.90        63\n",
            "    weighted avg       0.91      0.90      0.90        63\n",
            "\n"
          ],
          "name": "stdout"
        },
        {
          "output_type": "display_data",
          "data": {
            "image/png": "[encoded data removed]",
            "text/plain": [
              "<Figure size 432x288 with 2 Axes>"
            ]
          },
          "metadata": {
            "tags": [],
            "needs_background": "light"
          }
        }
      ]
    },
    {
      "cell_type": "markdown",
      "metadata": {
        "id": "CZgtJmLhuDoQ"
      },
      "source": [
        "To further evaluate our classifier, we initialize a pipeline with the CountVectorizer and the Multinomial Naive Bayes classifier. The FunctionTransformer is needed to make the sparse output of the CountVectorizer dense."
      ]
    },
    {
      "cell_type": "code",
      "metadata": {
        "id": "CdRZ-kuDcQ59"
      },
      "source": [
        "pipe = Pipeline([\n",
        "    ('count', CountVectorizer(lowercase=True, strip_accents=\"unicode\", ngram_range=(1, 2))),\n",
        "    (\"dense\", FunctionTransformer(lambda x: x.todense(), accept_sparse=True)),\n",
        "    ('multinomialNB', MultinomialNB()),\n",
        "])"
      ],
      "execution_count": 40,
      "outputs": []
    },
    {
      "cell_type": "markdown",
      "metadata": {
        "id": "Nwcj5JCKtrhD"
      },
      "source": [
        "Next, we shuffle the data set and perform 5-fold cross-validation to ensure we have trained and tested on almost all data."
      ]
    },
    {
      "cell_type": "code",
      "metadata": {
        "colab": {
          "base_uri": "https://localhost:8080/"
        },
        "id": "2sqtq-k-dHnx",
        "outputId": "b998bee4-8dce-4b26-e8aa-ecf10c96b815"
      },
      "source": [
        "data_cv = data.sample(frac=1).reset_index(drop=True)\n",
        "print(cross_validate(pipe, data_cv[\"X\"], data_cv[\"y\"], scoring=\"accuracy\", cv=5)[\"test_score\"])"
      ],
      "execution_count": 58,
      "outputs": [
        {
          "output_type": "stream",
          "text": [
            "[0.9047619  0.85714286 0.80952381 0.9047619  0.95121951]\n"
          ],
          "name": "stdout"
        }
      ]
    },
    {
      "cell_type": "markdown",
      "metadata": {
        "id": "IRybQe_SusAP"
      },
      "source": [
        "All in all, our classifier still performs well. However, it is apparent that not all transactions work equally well."
      ]
    }
  ]
}